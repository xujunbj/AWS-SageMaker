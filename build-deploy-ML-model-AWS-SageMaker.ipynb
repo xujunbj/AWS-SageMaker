{
 "cells": [
  {
   "cell_type": "markdown",
   "metadata": {},
   "source": [
    "<h2>Kaggle Bike Sharing Demand Dataset</h2>\n",
    "\n",
    "Modified 'count' as log1p(count) for training - Log converts a big number to a smaller number.  Once prediction is run, need to reverse this to find actual count by using expm1 function\n",
    "\n",
    "Inspiration: https://www.kaggle.com/apapiu/predicting-bike-sharing-with-xgboost by Alexandru Papiu\n",
    "\n",
    "To download dataset, sign-in and download from this link: https://www.kaggle.com/c/bike-sharing-demand/data\n",
    "\n",
    "Objective: <quote>You are provided hourly rental data spanning two years. For this competition, the training set is comprised of the first 19 days of each month, while the test set is the 20th to the end of the month. You must predict the total count of bikes rented during each hour covered by the test set, using only information available prior to the rental period (Ref: Kaggle.com)</quote>"
   ]
  },
  {
   "cell_type": "code",
   "execution_count": 1,
   "metadata": {},
   "outputs": [],
   "source": [
    "%matplotlib inline\n",
    "import numpy as np\n",
    "import pandas as pd\n",
    "import matplotlib.pyplot as plt"
   ]
  },
  {
   "cell_type": "code",
   "execution_count": 4,
   "metadata": {},
   "outputs": [],
   "source": [
    "# assumes that the train and test dataset has been uploaded to the SagMaker Jupyter Notebook\n",
    "df = pd.read_csv('train.csv', parse_dates=['datetime'])\n",
    "df_test = pd.read_csv('test.csv', parse_dates=['datetime'])"
   ]
  },
  {
   "cell_type": "code",
   "execution_count": 5,
   "metadata": {},
   "outputs": [
    {
     "data": {
      "text/html": [
       "<div>\n",
       "<style scoped>\n",
       "    .dataframe tbody tr th:only-of-type {\n",
       "        vertical-align: middle;\n",
       "    }\n",
       "\n",
       "    .dataframe tbody tr th {\n",
       "        vertical-align: top;\n",
       "    }\n",
       "\n",
       "    .dataframe thead th {\n",
       "        text-align: right;\n",
       "    }\n",
       "</style>\n",
       "<table border=\"1\" class=\"dataframe\">\n",
       "  <thead>\n",
       "    <tr style=\"text-align: right;\">\n",
       "      <th></th>\n",
       "      <th>datetime</th>\n",
       "      <th>season</th>\n",
       "      <th>holiday</th>\n",
       "      <th>workingday</th>\n",
       "      <th>weather</th>\n",
       "      <th>temp</th>\n",
       "      <th>atemp</th>\n",
       "      <th>humidity</th>\n",
       "      <th>windspeed</th>\n",
       "      <th>casual</th>\n",
       "      <th>registered</th>\n",
       "      <th>count</th>\n",
       "    </tr>\n",
       "  </thead>\n",
       "  <tbody>\n",
       "    <tr>\n",
       "      <th>0</th>\n",
       "      <td>2011-01-01 00:00:00</td>\n",
       "      <td>1</td>\n",
       "      <td>0</td>\n",
       "      <td>0</td>\n",
       "      <td>1</td>\n",
       "      <td>9.84</td>\n",
       "      <td>14.395</td>\n",
       "      <td>81</td>\n",
       "      <td>0.0</td>\n",
       "      <td>3</td>\n",
       "      <td>13</td>\n",
       "      <td>16</td>\n",
       "    </tr>\n",
       "    <tr>\n",
       "      <th>1</th>\n",
       "      <td>2011-01-01 01:00:00</td>\n",
       "      <td>1</td>\n",
       "      <td>0</td>\n",
       "      <td>0</td>\n",
       "      <td>1</td>\n",
       "      <td>9.02</td>\n",
       "      <td>13.635</td>\n",
       "      <td>80</td>\n",
       "      <td>0.0</td>\n",
       "      <td>8</td>\n",
       "      <td>32</td>\n",
       "      <td>40</td>\n",
       "    </tr>\n",
       "    <tr>\n",
       "      <th>2</th>\n",
       "      <td>2011-01-01 02:00:00</td>\n",
       "      <td>1</td>\n",
       "      <td>0</td>\n",
       "      <td>0</td>\n",
       "      <td>1</td>\n",
       "      <td>9.02</td>\n",
       "      <td>13.635</td>\n",
       "      <td>80</td>\n",
       "      <td>0.0</td>\n",
       "      <td>5</td>\n",
       "      <td>27</td>\n",
       "      <td>32</td>\n",
       "    </tr>\n",
       "    <tr>\n",
       "      <th>3</th>\n",
       "      <td>2011-01-01 03:00:00</td>\n",
       "      <td>1</td>\n",
       "      <td>0</td>\n",
       "      <td>0</td>\n",
       "      <td>1</td>\n",
       "      <td>9.84</td>\n",
       "      <td>14.395</td>\n",
       "      <td>75</td>\n",
       "      <td>0.0</td>\n",
       "      <td>3</td>\n",
       "      <td>10</td>\n",
       "      <td>13</td>\n",
       "    </tr>\n",
       "    <tr>\n",
       "      <th>4</th>\n",
       "      <td>2011-01-01 04:00:00</td>\n",
       "      <td>1</td>\n",
       "      <td>0</td>\n",
       "      <td>0</td>\n",
       "      <td>1</td>\n",
       "      <td>9.84</td>\n",
       "      <td>14.395</td>\n",
       "      <td>75</td>\n",
       "      <td>0.0</td>\n",
       "      <td>0</td>\n",
       "      <td>1</td>\n",
       "      <td>1</td>\n",
       "    </tr>\n",
       "  </tbody>\n",
       "</table>\n",
       "</div>"
      ],
      "text/plain": [
       "             datetime  season  holiday  workingday  weather  temp   atemp  \\\n",
       "0 2011-01-01 00:00:00       1        0           0        1  9.84  14.395   \n",
       "1 2011-01-01 01:00:00       1        0           0        1  9.02  13.635   \n",
       "2 2011-01-01 02:00:00       1        0           0        1  9.02  13.635   \n",
       "3 2011-01-01 03:00:00       1        0           0        1  9.84  14.395   \n",
       "4 2011-01-01 04:00:00       1        0           0        1  9.84  14.395   \n",
       "\n",
       "   humidity  windspeed  casual  registered  count  \n",
       "0        81        0.0       3          13     16  \n",
       "1        80        0.0       8          32     40  \n",
       "2        80        0.0       5          27     32  \n",
       "3        75        0.0       3          10     13  \n",
       "4        75        0.0       0           1      1  "
      ]
     },
     "execution_count": 5,
     "metadata": {},
     "output_type": "execute_result"
    }
   ],
   "source": [
    "df.head()"
   ]
  },
  {
   "cell_type": "code",
   "execution_count": 6,
   "metadata": {},
   "outputs": [
    {
     "name": "stdout",
     "output_type": "stream",
     "text": [
      "<class 'pandas.core.frame.DataFrame'>\n",
      "RangeIndex: 10886 entries, 0 to 10885\n",
      "Data columns (total 12 columns):\n",
      "datetime      10886 non-null datetime64[ns]\n",
      "season        10886 non-null int64\n",
      "holiday       10886 non-null int64\n",
      "workingday    10886 non-null int64\n",
      "weather       10886 non-null int64\n",
      "temp          10886 non-null float64\n",
      "atemp         10886 non-null float64\n",
      "humidity      10886 non-null int64\n",
      "windspeed     10886 non-null float64\n",
      "casual        10886 non-null int64\n",
      "registered    10886 non-null int64\n",
      "count         10886 non-null int64\n",
      "dtypes: datetime64[ns](1), float64(3), int64(8)\n",
      "memory usage: 1020.6 KB\n"
     ]
    }
   ],
   "source": [
    "df.info()"
   ]
  },
  {
   "cell_type": "code",
   "execution_count": 7,
   "metadata": {},
   "outputs": [],
   "source": [
    "# We need to convert datetime to numeric for training.\n",
    "# Let's extract key features into separate numeric columns\n",
    "def add_features(df):\n",
    "    df['year'] = df['datetime'].dt.year\n",
    "    df['month'] = df['datetime'].dt.month\n",
    "    df['day'] = df['datetime'].dt.day\n",
    "    df['dayofweek'] = df['datetime'].dt.dayofweek\n",
    "    df['hour'] = df['datetime'].dt.hour"
   ]
  },
  {
   "cell_type": "code",
   "execution_count": 8,
   "metadata": {},
   "outputs": [],
   "source": [
    "add_features(df)\n",
    "add_features(df_test)"
   ]
  },
  {
   "cell_type": "code",
   "execution_count": 9,
   "metadata": {},
   "outputs": [],
   "source": [
    "df[\"count\"] = df[\"count\"].map(np.log1p)"
   ]
  },
  {
   "cell_type": "code",
   "execution_count": 10,
   "metadata": {},
   "outputs": [
    {
     "data": {
      "text/html": [
       "<div>\n",
       "<style scoped>\n",
       "    .dataframe tbody tr th:only-of-type {\n",
       "        vertical-align: middle;\n",
       "    }\n",
       "\n",
       "    .dataframe tbody tr th {\n",
       "        vertical-align: top;\n",
       "    }\n",
       "\n",
       "    .dataframe thead th {\n",
       "        text-align: right;\n",
       "    }\n",
       "</style>\n",
       "<table border=\"1\" class=\"dataframe\">\n",
       "  <thead>\n",
       "    <tr style=\"text-align: right;\">\n",
       "      <th></th>\n",
       "      <th>datetime</th>\n",
       "      <th>season</th>\n",
       "      <th>holiday</th>\n",
       "      <th>workingday</th>\n",
       "      <th>weather</th>\n",
       "      <th>temp</th>\n",
       "      <th>atemp</th>\n",
       "      <th>humidity</th>\n",
       "      <th>windspeed</th>\n",
       "      <th>casual</th>\n",
       "      <th>registered</th>\n",
       "      <th>count</th>\n",
       "      <th>year</th>\n",
       "      <th>month</th>\n",
       "      <th>day</th>\n",
       "      <th>dayofweek</th>\n",
       "      <th>hour</th>\n",
       "    </tr>\n",
       "  </thead>\n",
       "  <tbody>\n",
       "    <tr>\n",
       "      <th>0</th>\n",
       "      <td>2011-01-01 00:00:00</td>\n",
       "      <td>1</td>\n",
       "      <td>0</td>\n",
       "      <td>0</td>\n",
       "      <td>1</td>\n",
       "      <td>9.84</td>\n",
       "      <td>14.395</td>\n",
       "      <td>81</td>\n",
       "      <td>0.0</td>\n",
       "      <td>3</td>\n",
       "      <td>13</td>\n",
       "      <td>2.833213</td>\n",
       "      <td>2011</td>\n",
       "      <td>1</td>\n",
       "      <td>1</td>\n",
       "      <td>5</td>\n",
       "      <td>0</td>\n",
       "    </tr>\n",
       "    <tr>\n",
       "      <th>1</th>\n",
       "      <td>2011-01-01 01:00:00</td>\n",
       "      <td>1</td>\n",
       "      <td>0</td>\n",
       "      <td>0</td>\n",
       "      <td>1</td>\n",
       "      <td>9.02</td>\n",
       "      <td>13.635</td>\n",
       "      <td>80</td>\n",
       "      <td>0.0</td>\n",
       "      <td>8</td>\n",
       "      <td>32</td>\n",
       "      <td>3.713572</td>\n",
       "      <td>2011</td>\n",
       "      <td>1</td>\n",
       "      <td>1</td>\n",
       "      <td>5</td>\n",
       "      <td>1</td>\n",
       "    </tr>\n",
       "    <tr>\n",
       "      <th>2</th>\n",
       "      <td>2011-01-01 02:00:00</td>\n",
       "      <td>1</td>\n",
       "      <td>0</td>\n",
       "      <td>0</td>\n",
       "      <td>1</td>\n",
       "      <td>9.02</td>\n",
       "      <td>13.635</td>\n",
       "      <td>80</td>\n",
       "      <td>0.0</td>\n",
       "      <td>5</td>\n",
       "      <td>27</td>\n",
       "      <td>3.496508</td>\n",
       "      <td>2011</td>\n",
       "      <td>1</td>\n",
       "      <td>1</td>\n",
       "      <td>5</td>\n",
       "      <td>2</td>\n",
       "    </tr>\n",
       "    <tr>\n",
       "      <th>3</th>\n",
       "      <td>2011-01-01 03:00:00</td>\n",
       "      <td>1</td>\n",
       "      <td>0</td>\n",
       "      <td>0</td>\n",
       "      <td>1</td>\n",
       "      <td>9.84</td>\n",
       "      <td>14.395</td>\n",
       "      <td>75</td>\n",
       "      <td>0.0</td>\n",
       "      <td>3</td>\n",
       "      <td>10</td>\n",
       "      <td>2.639057</td>\n",
       "      <td>2011</td>\n",
       "      <td>1</td>\n",
       "      <td>1</td>\n",
       "      <td>5</td>\n",
       "      <td>3</td>\n",
       "    </tr>\n",
       "    <tr>\n",
       "      <th>4</th>\n",
       "      <td>2011-01-01 04:00:00</td>\n",
       "      <td>1</td>\n",
       "      <td>0</td>\n",
       "      <td>0</td>\n",
       "      <td>1</td>\n",
       "      <td>9.84</td>\n",
       "      <td>14.395</td>\n",
       "      <td>75</td>\n",
       "      <td>0.0</td>\n",
       "      <td>0</td>\n",
       "      <td>1</td>\n",
       "      <td>0.693147</td>\n",
       "      <td>2011</td>\n",
       "      <td>1</td>\n",
       "      <td>1</td>\n",
       "      <td>5</td>\n",
       "      <td>4</td>\n",
       "    </tr>\n",
       "  </tbody>\n",
       "</table>\n",
       "</div>"
      ],
      "text/plain": [
       "             datetime  season  holiday  workingday  weather  temp   atemp  \\\n",
       "0 2011-01-01 00:00:00       1        0           0        1  9.84  14.395   \n",
       "1 2011-01-01 01:00:00       1        0           0        1  9.02  13.635   \n",
       "2 2011-01-01 02:00:00       1        0           0        1  9.02  13.635   \n",
       "3 2011-01-01 03:00:00       1        0           0        1  9.84  14.395   \n",
       "4 2011-01-01 04:00:00       1        0           0        1  9.84  14.395   \n",
       "\n",
       "   humidity  windspeed  casual  registered     count  year  month  day  \\\n",
       "0        81        0.0       3          13  2.833213  2011      1    1   \n",
       "1        80        0.0       8          32  3.713572  2011      1    1   \n",
       "2        80        0.0       5          27  3.496508  2011      1    1   \n",
       "3        75        0.0       3          10  2.639057  2011      1    1   \n",
       "4        75        0.0       0           1  0.693147  2011      1    1   \n",
       "\n",
       "   dayofweek  hour  \n",
       "0          5     0  \n",
       "1          5     1  \n",
       "2          5     2  \n",
       "3          5     3  \n",
       "4          5     4  "
      ]
     },
     "execution_count": 10,
     "metadata": {},
     "output_type": "execute_result"
    }
   ],
   "source": [
    "df.head()"
   ]
  },
  {
   "cell_type": "code",
   "execution_count": 11,
   "metadata": {},
   "outputs": [
    {
     "data": {
      "text/html": [
       "<div>\n",
       "<style scoped>\n",
       "    .dataframe tbody tr th:only-of-type {\n",
       "        vertical-align: middle;\n",
       "    }\n",
       "\n",
       "    .dataframe tbody tr th {\n",
       "        vertical-align: top;\n",
       "    }\n",
       "\n",
       "    .dataframe thead th {\n",
       "        text-align: right;\n",
       "    }\n",
       "</style>\n",
       "<table border=\"1\" class=\"dataframe\">\n",
       "  <thead>\n",
       "    <tr style=\"text-align: right;\">\n",
       "      <th></th>\n",
       "      <th>datetime</th>\n",
       "      <th>season</th>\n",
       "      <th>holiday</th>\n",
       "      <th>workingday</th>\n",
       "      <th>weather</th>\n",
       "      <th>temp</th>\n",
       "      <th>atemp</th>\n",
       "      <th>humidity</th>\n",
       "      <th>windspeed</th>\n",
       "      <th>year</th>\n",
       "      <th>month</th>\n",
       "      <th>day</th>\n",
       "      <th>dayofweek</th>\n",
       "      <th>hour</th>\n",
       "    </tr>\n",
       "  </thead>\n",
       "  <tbody>\n",
       "    <tr>\n",
       "      <th>0</th>\n",
       "      <td>2011-01-20 00:00:00</td>\n",
       "      <td>1</td>\n",
       "      <td>0</td>\n",
       "      <td>1</td>\n",
       "      <td>1</td>\n",
       "      <td>10.66</td>\n",
       "      <td>11.365</td>\n",
       "      <td>56</td>\n",
       "      <td>26.0027</td>\n",
       "      <td>2011</td>\n",
       "      <td>1</td>\n",
       "      <td>20</td>\n",
       "      <td>3</td>\n",
       "      <td>0</td>\n",
       "    </tr>\n",
       "    <tr>\n",
       "      <th>1</th>\n",
       "      <td>2011-01-20 01:00:00</td>\n",
       "      <td>1</td>\n",
       "      <td>0</td>\n",
       "      <td>1</td>\n",
       "      <td>1</td>\n",
       "      <td>10.66</td>\n",
       "      <td>13.635</td>\n",
       "      <td>56</td>\n",
       "      <td>0.0000</td>\n",
       "      <td>2011</td>\n",
       "      <td>1</td>\n",
       "      <td>20</td>\n",
       "      <td>3</td>\n",
       "      <td>1</td>\n",
       "    </tr>\n",
       "    <tr>\n",
       "      <th>2</th>\n",
       "      <td>2011-01-20 02:00:00</td>\n",
       "      <td>1</td>\n",
       "      <td>0</td>\n",
       "      <td>1</td>\n",
       "      <td>1</td>\n",
       "      <td>10.66</td>\n",
       "      <td>13.635</td>\n",
       "      <td>56</td>\n",
       "      <td>0.0000</td>\n",
       "      <td>2011</td>\n",
       "      <td>1</td>\n",
       "      <td>20</td>\n",
       "      <td>3</td>\n",
       "      <td>2</td>\n",
       "    </tr>\n",
       "    <tr>\n",
       "      <th>3</th>\n",
       "      <td>2011-01-20 03:00:00</td>\n",
       "      <td>1</td>\n",
       "      <td>0</td>\n",
       "      <td>1</td>\n",
       "      <td>1</td>\n",
       "      <td>10.66</td>\n",
       "      <td>12.880</td>\n",
       "      <td>56</td>\n",
       "      <td>11.0014</td>\n",
       "      <td>2011</td>\n",
       "      <td>1</td>\n",
       "      <td>20</td>\n",
       "      <td>3</td>\n",
       "      <td>3</td>\n",
       "    </tr>\n",
       "    <tr>\n",
       "      <th>4</th>\n",
       "      <td>2011-01-20 04:00:00</td>\n",
       "      <td>1</td>\n",
       "      <td>0</td>\n",
       "      <td>1</td>\n",
       "      <td>1</td>\n",
       "      <td>10.66</td>\n",
       "      <td>12.880</td>\n",
       "      <td>56</td>\n",
       "      <td>11.0014</td>\n",
       "      <td>2011</td>\n",
       "      <td>1</td>\n",
       "      <td>20</td>\n",
       "      <td>3</td>\n",
       "      <td>4</td>\n",
       "    </tr>\n",
       "  </tbody>\n",
       "</table>\n",
       "</div>"
      ],
      "text/plain": [
       "             datetime  season  holiday  workingday  weather   temp   atemp  \\\n",
       "0 2011-01-20 00:00:00       1        0           1        1  10.66  11.365   \n",
       "1 2011-01-20 01:00:00       1        0           1        1  10.66  13.635   \n",
       "2 2011-01-20 02:00:00       1        0           1        1  10.66  13.635   \n",
       "3 2011-01-20 03:00:00       1        0           1        1  10.66  12.880   \n",
       "4 2011-01-20 04:00:00       1        0           1        1  10.66  12.880   \n",
       "\n",
       "   humidity  windspeed  year  month  day  dayofweek  hour  \n",
       "0        56    26.0027  2011      1   20          3     0  \n",
       "1        56     0.0000  2011      1   20          3     1  \n",
       "2        56     0.0000  2011      1   20          3     2  \n",
       "3        56    11.0014  2011      1   20          3     3  \n",
       "4        56    11.0014  2011      1   20          3     4  "
      ]
     },
     "execution_count": 11,
     "metadata": {},
     "output_type": "execute_result"
    }
   ],
   "source": [
    "df_test.head()"
   ]
  },
  {
   "cell_type": "code",
   "execution_count": 12,
   "metadata": {},
   "outputs": [
    {
     "data": {
      "text/plain": [
       "datetime      datetime64[ns]\n",
       "season                 int64\n",
       "holiday                int64\n",
       "workingday             int64\n",
       "weather                int64\n",
       "temp                 float64\n",
       "atemp                float64\n",
       "humidity               int64\n",
       "windspeed            float64\n",
       "casual                 int64\n",
       "registered             int64\n",
       "count                float64\n",
       "year                   int64\n",
       "month                  int64\n",
       "day                    int64\n",
       "dayofweek              int64\n",
       "hour                   int64\n",
       "dtype: object"
      ]
     },
     "execution_count": 12,
     "metadata": {},
     "output_type": "execute_result"
    }
   ],
   "source": [
    "df.dtypes"
   ]
  },
  {
   "cell_type": "markdown",
   "metadata": {},
   "source": [
    "## Training and Validation Set\n",
    "\n",
    "* Target Variable as first column followed by input features\n",
    "* raining, Validation files do not have a column header"
   ]
  },
  {
   "cell_type": "code",
   "execution_count": 13,
   "metadata": {},
   "outputs": [],
   "source": [
    "# Training = 70% of the data\n",
    "# Validation = 30% of the data\n",
    "# Randomize the datset\n",
    "np.random.seed(5)\n",
    "l = list(df.index)\n",
    "np.random.shuffle(l)\n",
    "df = df.iloc[l]"
   ]
  },
  {
   "cell_type": "code",
   "execution_count": 14,
   "metadata": {},
   "outputs": [],
   "source": [
    "rows = df.shape[0]\n",
    "train = int(.7 * rows)\n",
    "test = int(.3 * rows)"
   ]
  },
  {
   "cell_type": "code",
   "execution_count": 15,
   "metadata": {},
   "outputs": [
    {
     "data": {
      "text/plain": [
       "(10886, 7620, 3265)"
      ]
     },
     "execution_count": 15,
     "metadata": {},
     "output_type": "execute_result"
    }
   ],
   "source": [
    "rows, train, test"
   ]
  },
  {
   "cell_type": "code",
   "execution_count": 16,
   "metadata": {},
   "outputs": [],
   "source": [
    "columns = ['count', 'season', 'holiday', 'workingday', 'weather', 'temp',\n",
    "       'atemp', 'humidity', 'windspeed', 'year', 'month', 'day', 'dayofweek','hour']"
   ]
  },
  {
   "cell_type": "code",
   "execution_count": 17,
   "metadata": {},
   "outputs": [],
   "source": [
    "# Write Training Set\n",
    "df[:train].to_csv('bike_train.csv'\n",
    "                          ,index=False,header=False\n",
    "                          ,columns=columns)"
   ]
  },
  {
   "cell_type": "code",
   "execution_count": 18,
   "metadata": {},
   "outputs": [],
   "source": [
    "# Write Validation Set\n",
    "df[train:].to_csv('bike_validation.csv'\n",
    "                          ,index=False,header=False\n",
    "                          ,columns=columns)"
   ]
  },
  {
   "cell_type": "code",
   "execution_count": 19,
   "metadata": {},
   "outputs": [],
   "source": [
    "# Test Data has only input features\n",
    "test_cols =  ['datetime'] +columns[1:]\n",
    "df_test.to_csv('bike_test.csv'\n",
    "               ,index=False,header=False\n",
    "              ,columns=test_cols)"
   ]
  },
  {
   "cell_type": "code",
   "execution_count": 20,
   "metadata": {},
   "outputs": [
    {
     "data": {
      "text/plain": [
       "['datetime',\n",
       " 'season',\n",
       " 'holiday',\n",
       " 'workingday',\n",
       " 'weather',\n",
       " 'temp',\n",
       " 'atemp',\n",
       " 'humidity',\n",
       " 'windspeed',\n",
       " 'year',\n",
       " 'month',\n",
       " 'day',\n",
       " 'dayofweek',\n",
       " 'hour']"
      ]
     },
     "execution_count": 20,
     "metadata": {},
     "output_type": "execute_result"
    }
   ],
   "source": [
    "test_cols"
   ]
  },
  {
   "cell_type": "code",
   "execution_count": 21,
   "metadata": {},
   "outputs": [
    {
     "data": {
      "text/html": [
       "<div>\n",
       "<style scoped>\n",
       "    .dataframe tbody tr th:only-of-type {\n",
       "        vertical-align: middle;\n",
       "    }\n",
       "\n",
       "    .dataframe tbody tr th {\n",
       "        vertical-align: top;\n",
       "    }\n",
       "\n",
       "    .dataframe thead th {\n",
       "        text-align: right;\n",
       "    }\n",
       "</style>\n",
       "<table border=\"1\" class=\"dataframe\">\n",
       "  <thead>\n",
       "    <tr style=\"text-align: right;\">\n",
       "      <th></th>\n",
       "      <th>datetime</th>\n",
       "      <th>season</th>\n",
       "      <th>holiday</th>\n",
       "      <th>workingday</th>\n",
       "      <th>weather</th>\n",
       "      <th>temp</th>\n",
       "      <th>atemp</th>\n",
       "      <th>humidity</th>\n",
       "      <th>windspeed</th>\n",
       "      <th>year</th>\n",
       "      <th>month</th>\n",
       "      <th>day</th>\n",
       "      <th>dayofweek</th>\n",
       "      <th>hour</th>\n",
       "    </tr>\n",
       "  </thead>\n",
       "  <tbody>\n",
       "    <tr>\n",
       "      <th>0</th>\n",
       "      <td>2011-01-20 00:00:00</td>\n",
       "      <td>1</td>\n",
       "      <td>0</td>\n",
       "      <td>1</td>\n",
       "      <td>1</td>\n",
       "      <td>10.66</td>\n",
       "      <td>11.365</td>\n",
       "      <td>56</td>\n",
       "      <td>26.0027</td>\n",
       "      <td>2011</td>\n",
       "      <td>1</td>\n",
       "      <td>20</td>\n",
       "      <td>3</td>\n",
       "      <td>0</td>\n",
       "    </tr>\n",
       "    <tr>\n",
       "      <th>1</th>\n",
       "      <td>2011-01-20 01:00:00</td>\n",
       "      <td>1</td>\n",
       "      <td>0</td>\n",
       "      <td>1</td>\n",
       "      <td>1</td>\n",
       "      <td>10.66</td>\n",
       "      <td>13.635</td>\n",
       "      <td>56</td>\n",
       "      <td>0.0000</td>\n",
       "      <td>2011</td>\n",
       "      <td>1</td>\n",
       "      <td>20</td>\n",
       "      <td>3</td>\n",
       "      <td>1</td>\n",
       "    </tr>\n",
       "    <tr>\n",
       "      <th>2</th>\n",
       "      <td>2011-01-20 02:00:00</td>\n",
       "      <td>1</td>\n",
       "      <td>0</td>\n",
       "      <td>1</td>\n",
       "      <td>1</td>\n",
       "      <td>10.66</td>\n",
       "      <td>13.635</td>\n",
       "      <td>56</td>\n",
       "      <td>0.0000</td>\n",
       "      <td>2011</td>\n",
       "      <td>1</td>\n",
       "      <td>20</td>\n",
       "      <td>3</td>\n",
       "      <td>2</td>\n",
       "    </tr>\n",
       "    <tr>\n",
       "      <th>3</th>\n",
       "      <td>2011-01-20 03:00:00</td>\n",
       "      <td>1</td>\n",
       "      <td>0</td>\n",
       "      <td>1</td>\n",
       "      <td>1</td>\n",
       "      <td>10.66</td>\n",
       "      <td>12.880</td>\n",
       "      <td>56</td>\n",
       "      <td>11.0014</td>\n",
       "      <td>2011</td>\n",
       "      <td>1</td>\n",
       "      <td>20</td>\n",
       "      <td>3</td>\n",
       "      <td>3</td>\n",
       "    </tr>\n",
       "    <tr>\n",
       "      <th>4</th>\n",
       "      <td>2011-01-20 04:00:00</td>\n",
       "      <td>1</td>\n",
       "      <td>0</td>\n",
       "      <td>1</td>\n",
       "      <td>1</td>\n",
       "      <td>10.66</td>\n",
       "      <td>12.880</td>\n",
       "      <td>56</td>\n",
       "      <td>11.0014</td>\n",
       "      <td>2011</td>\n",
       "      <td>1</td>\n",
       "      <td>20</td>\n",
       "      <td>3</td>\n",
       "      <td>4</td>\n",
       "    </tr>\n",
       "  </tbody>\n",
       "</table>\n",
       "</div>"
      ],
      "text/plain": [
       "             datetime  season  holiday  workingday  weather   temp   atemp  \\\n",
       "0 2011-01-20 00:00:00       1        0           1        1  10.66  11.365   \n",
       "1 2011-01-20 01:00:00       1        0           1        1  10.66  13.635   \n",
       "2 2011-01-20 02:00:00       1        0           1        1  10.66  13.635   \n",
       "3 2011-01-20 03:00:00       1        0           1        1  10.66  12.880   \n",
       "4 2011-01-20 04:00:00       1        0           1        1  10.66  12.880   \n",
       "\n",
       "   humidity  windspeed  year  month  day  dayofweek  hour  \n",
       "0        56    26.0027  2011      1   20          3     0  \n",
       "1        56     0.0000  2011      1   20          3     1  \n",
       "2        56     0.0000  2011      1   20          3     2  \n",
       "3        56    11.0014  2011      1   20          3     3  \n",
       "4        56    11.0014  2011      1   20          3     4  "
      ]
     },
     "execution_count": 21,
     "metadata": {},
     "output_type": "execute_result"
    }
   ],
   "source": [
    "df_test.head()"
   ]
  },
  {
   "cell_type": "code",
   "execution_count": 22,
   "metadata": {},
   "outputs": [
    {
     "data": {
      "text/plain": [
       "'count,season,holiday,workingday,weather,temp,atemp,humidity,windspeed,year,month,day,dayofweek,hour'"
      ]
     },
     "execution_count": 22,
     "metadata": {},
     "output_type": "execute_result"
    }
   ],
   "source": [
    "','.join(columns)"
   ]
  },
  {
   "cell_type": "code",
   "execution_count": 23,
   "metadata": {},
   "outputs": [],
   "source": [
    "# Write Column List\n",
    "with open('bike_train_column_list.txt','w') as f:\n",
    "    f.write(','.join(columns))"
   ]
  },
  {
   "cell_type": "markdown",
   "metadata": {},
   "source": [
    "### Import AWS libraries"
   ]
  },
  {
   "cell_type": "code",
   "execution_count": 24,
   "metadata": {},
   "outputs": [],
   "source": [
    "# Define IAM role\n",
    "import boto3\n",
    "import re\n",
    "import sagemaker\n",
    "from sagemaker import get_execution_role\n",
    "\n",
    "# SageMaker SDK Documentation: http://sagemaker.readthedocs.io/en/latest/estimators.html"
   ]
  },
  {
   "cell_type": "markdown",
   "metadata": {},
   "source": [
    "### Upload Data to S3"
   ]
  },
  {
   "cell_type": "code",
   "execution_count": 29,
   "metadata": {},
   "outputs": [],
   "source": [
    "bucket_name = 'uwo-bkt-xj'\n",
    "training_file_key = 'biketrain/bike_train.csv'\n",
    "validation_file_key = 'biketrain/bike_validation.csv'\n",
    "test_file_key = 'biketrain/bike_test.csv'\n",
    "\n",
    "s3_model_output_location = r's3://{0}/biketrain/model'.format(bucket_name)\n",
    "s3_training_file_location = r's3://{0}/{1}'.format(bucket_name,training_file_key)\n",
    "s3_validation_file_location = r's3://{0}/{1}'.format(bucket_name,validation_file_key)\n",
    "s3_test_file_location = r's3://{0}/{1}'.format(bucket_name,test_file_key)"
   ]
  },
  {
   "cell_type": "code",
   "execution_count": 30,
   "metadata": {},
   "outputs": [
    {
     "name": "stdout",
     "output_type": "stream",
     "text": [
      "s3://uwo-bkt-xj/biketrain/model\n",
      "s3://uwo-bkt-xj/biketrain/bike_train.csv\n",
      "s3://uwo-bkt-xj/biketrain/bike_validation.csv\n",
      "s3://uwo-bkt-xj/biketrain/bike_test.csv\n"
     ]
    }
   ],
   "source": [
    "print(s3_model_output_location)\n",
    "print(s3_training_file_location)\n",
    "print(s3_validation_file_location)\n",
    "print(s3_test_file_location)"
   ]
  },
  {
   "cell_type": "code",
   "execution_count": 31,
   "metadata": {},
   "outputs": [],
   "source": [
    "# Write and Reading from S3 is just as easy\n",
    "# files are referred as objects in S3.  \n",
    "# file name is referred as key name in S3\n",
    "# Files stored in S3 are automatically replicated across 3 different availability zones \n",
    "# in the region where the bucket was created.\n",
    "\n",
    "# http://boto3.readthedocs.io/en/latest/guide/s3.html\n",
    "def write_to_s3(filename, bucket, key):\n",
    "    with open(filename,'rb') as f: # Read in binary mode\n",
    "        return boto3.Session().resource('s3').Bucket(bucket).Object(key).upload_fileobj(f)"
   ]
  },
  {
   "cell_type": "code",
   "execution_count": 32,
   "metadata": {},
   "outputs": [],
   "source": [
    "write_to_s3('bike_train.csv',bucket_name,training_file_key)\n",
    "write_to_s3('bike_validation.csv',bucket_name,validation_file_key)\n",
    "write_to_s3('bike_test.csv',bucket_name,test_file_key)"
   ]
  },
  {
   "cell_type": "markdown",
   "metadata": {},
   "source": [
    "### Training Algorithm Docker Image\n",
    "\n",
    "* AWS Maintains a separate image for every region and algorithm"
   ]
  },
  {
   "cell_type": "code",
   "execution_count": 33,
   "metadata": {},
   "outputs": [],
   "source": [
    "role = get_execution_role()"
   ]
  },
  {
   "cell_type": "code",
   "execution_count": 34,
   "metadata": {},
   "outputs": [
    {
     "name": "stdout",
     "output_type": "stream",
     "text": [
      "arn:aws:iam::948874832909:role/workshop-sagemaker-kfp-role\n"
     ]
    }
   ],
   "source": [
    "# This role contains the permissions needed to train, deploy models\n",
    "# SageMaker Service is trusted to assume this role\n",
    "print(role)"
   ]
  },
  {
   "cell_type": "code",
   "execution_count": 35,
   "metadata": {},
   "outputs": [
    {
     "data": {
      "text/plain": [
       "'us-west-2'"
      ]
     },
     "execution_count": 35,
     "metadata": {},
     "output_type": "execute_result"
    }
   ],
   "source": [
    "# find you region\n",
    "boto3.Session().region_name"
   ]
  },
  {
   "cell_type": "markdown",
   "metadata": {},
   "source": [
    "### Build Model"
   ]
  },
  {
   "cell_type": "code",
   "execution_count": 36,
   "metadata": {},
   "outputs": [],
   "source": [
    "sess = sagemaker.Session()"
   ]
  },
  {
   "cell_type": "code",
   "execution_count": 88,
   "metadata": {},
   "outputs": [
    {
     "name": "stdout",
     "output_type": "stream",
     "text": [
      "246618743249.dkr.ecr.us-west-2.amazonaws.com/sagemaker-xgboost:0.90-1-cpu-py3\n"
     ]
    }
   ],
   "source": [
    "# Access appropriate algorithm container image\n",
    "#  Specify how many instances to use for distributed training and what type of machine to use\n",
    "#  Finally, specify where the trained model artifacts needs to be stored\n",
    "#   Reference: http://sagemaker.readthedocs.io/en/latest/estimators.html\n",
    "#    Optionally, give a name to the training job using base_job_name\n",
    "\n",
    "import boto3\n",
    "from sagemaker.amazon.amazon_estimator import get_image_uri\n",
    "image_uri = get_image_uri(boto3.Session().region_name, 'xgboost', '0.90-1')\n",
    "print(image_uri)\n",
    "estimator = sagemaker.estimator.Estimator(image_uri,\n",
    "                                       role, \n",
    "                                       train_instance_count=1, \n",
    "                                       train_instance_type='ml.m4.xlarge',\n",
    "                                       output_path=s3_model_output_location,\n",
    "                                       sagemaker_session=sess,\n",
    "                                       base_job_name ='xgboost-biketrain-v1')"
   ]
  },
  {
   "cell_type": "code",
   "execution_count": 89,
   "metadata": {},
   "outputs": [],
   "source": [
    "\n",
    "# Specify hyper parameters that appropriate for the training algorithm\n",
    "# XGBoost Training Parameter Reference: \n",
    "#   https://github.com/dmlc/xgboost/blob/master/doc/parameter.md\n",
    "\n",
    "# max_depth=5,eta=0.1,subsample=0.7,num_round=150\n",
    "estimator.set_hyperparameters(max_depth=6,objective=\"reg:linear\",\n",
    "                              eta=0.12,subsample=0.73,num_round=200)\n"
   ]
  },
  {
   "cell_type": "code",
   "execution_count": 90,
   "metadata": {},
   "outputs": [
    {
     "data": {
      "text/plain": [
       "{'max_depth': 6,\n",
       " 'objective': 'reg:linear',\n",
       " 'eta': 0.12,\n",
       " 'subsample': 0.73,\n",
       " 'num_round': 200}"
      ]
     },
     "execution_count": 90,
     "metadata": {},
     "output_type": "execute_result"
    }
   ],
   "source": [
    "estimator.hyperparameters()"
   ]
  },
  {
   "cell_type": "markdown",
   "metadata": {},
   "source": [
    "### Specify Training Data Location and Optionally, Validation Data Location"
   ]
  },
  {
   "cell_type": "code",
   "execution_count": 91,
   "metadata": {},
   "outputs": [],
   "source": [
    "# content type can be libsvm or csv for XGBoost\n",
    "training_input_config = sagemaker.session.s3_input(s3_data=s3_training_file_location,content_type=\"csv\")\n",
    "validation_input_config = sagemaker.session.s3_input(s3_data=s3_validation_file_location,content_type=\"csv\")"
   ]
  },
  {
   "cell_type": "code",
   "execution_count": 92,
   "metadata": {},
   "outputs": [
    {
     "name": "stdout",
     "output_type": "stream",
     "text": [
      "{'DataSource': {'S3DataSource': {'S3DataType': 'S3Prefix', 'S3Uri': 's3://uwo-bkt-xj/biketrain/bike_train.csv', 'S3DataDistributionType': 'FullyReplicated'}}, 'ContentType': 'csv'}\n",
      "{'DataSource': {'S3DataSource': {'S3DataType': 'S3Prefix', 'S3Uri': 's3://uwo-bkt-xj/biketrain/bike_validation.csv', 'S3DataDistributionType': 'FullyReplicated'}}, 'ContentType': 'csv'}\n"
     ]
    }
   ],
   "source": [
    "print(training_input_config.config)\n",
    "print(validation_input_config.config)"
   ]
  },
  {
   "cell_type": "markdown",
   "metadata": {},
   "source": [
    "### Train the model"
   ]
  },
  {
   "cell_type": "code",
   "execution_count": 93,
   "metadata": {},
   "outputs": [
    {
     "name": "stdout",
     "output_type": "stream",
     "text": [
      "2020-07-06 10:57:32 Starting - Starting the training job...\n",
      "2020-07-06 10:57:35 Starting - Launching requested ML instances......\n",
      "2020-07-06 10:58:43 Starting - Preparing the instances for training......\n",
      "2020-07-06 11:00:01 Downloading - Downloading input data\n",
      "2020-07-06 11:00:01 Training - Downloading the training image...\n",
      "2020-07-06 11:00:28 Training - Training image download completed. Training in progress..\u001b[34mINFO:sagemaker-containers:Imported framework sagemaker_xgboost_container.training\u001b[0m\n",
      "\u001b[34mINFO:sagemaker-containers:Failed to parse hyperparameter objective value reg:linear to Json.\u001b[0m\n",
      "\u001b[34mReturning the value itself\u001b[0m\n",
      "\u001b[34mINFO:sagemaker-containers:No GPUs detected (normal if no gpus installed)\u001b[0m\n",
      "\u001b[34mINFO:sagemaker_xgboost_container.training:Running XGBoost Sagemaker in algorithm mode\u001b[0m\n",
      "\u001b[34mINFO:root:Determined delimiter of CSV input is ','\u001b[0m\n",
      "\u001b[34mINFO:root:Determined delimiter of CSV input is ','\u001b[0m\n",
      "\u001b[34mINFO:root:Determined delimiter of CSV input is ','\u001b[0m\n",
      "\u001b[34m[11:00:32] 7620x13 matrix with 99060 entries loaded from /opt/ml/input/data/train?format=csv&label_column=0&delimiter=,\u001b[0m\n",
      "\u001b[34mINFO:root:Determined delimiter of CSV input is ','\u001b[0m\n",
      "\u001b[34m[11:00:32] 3266x13 matrix with 42458 entries loaded from /opt/ml/input/data/validation?format=csv&label_column=0&delimiter=,\u001b[0m\n",
      "\u001b[34mINFO:root:Single node training.\u001b[0m\n",
      "\u001b[34mINFO:root:Train matrix has 7620 rows\u001b[0m\n",
      "\u001b[34mINFO:root:Validation matrix has 3266 rows\u001b[0m\n",
      "\u001b[34m[11:00:32] WARNING: /workspace/src/objective/regression_obj.cu:152: reg:linear is now deprecated in favor of reg:squarederror.\u001b[0m\n",
      "\u001b[34m[0]#011train-rmse:3.8194#011validation-rmse:3.82999\u001b[0m\n",
      "\u001b[34m[1]#011train-rmse:3.37305#011validation-rmse:3.38255\u001b[0m\n",
      "\u001b[34m[2]#011train-rmse:2.9809#011validation-rmse:2.98915\u001b[0m\n",
      "\u001b[34m[3]#011train-rmse:2.63506#011validation-rmse:2.64195\u001b[0m\n",
      "\u001b[34m[4]#011train-rmse:2.33291#011validation-rmse:2.34025\u001b[0m\n",
      "\u001b[34m[5]#011train-rmse:2.06764#011validation-rmse:2.07426\u001b[0m\n",
      "\u001b[34m[6]#011train-rmse:1.83404#011validation-rmse:1.84061\u001b[0m\n",
      "\u001b[34m[7]#011train-rmse:1.63027#011validation-rmse:1.63797\u001b[0m\n",
      "\u001b[34m[8]#011train-rmse:1.45087#011validation-rmse:1.45901\u001b[0m\n",
      "\u001b[34m[9]#011train-rmse:1.29279#011validation-rmse:1.30201\u001b[0m\n",
      "\u001b[34m[10]#011train-rmse:1.15468#011validation-rmse:1.16463\u001b[0m\n",
      "\u001b[34m[11]#011train-rmse:1.03496#011validation-rmse:1.04618\u001b[0m\n",
      "\u001b[34m[12]#011train-rmse:0.931341#011validation-rmse:0.944098\u001b[0m\n",
      "\u001b[34m[13]#011train-rmse:0.835073#011validation-rmse:0.850743\u001b[0m\n",
      "\u001b[34m[14]#011train-rmse:0.757351#011validation-rmse:0.774529\u001b[0m\n",
      "\u001b[34m[15]#011train-rmse:0.689395#011validation-rmse:0.708854\u001b[0m\n",
      "\u001b[34m[16]#011train-rmse:0.631138#011validation-rmse:0.652581\u001b[0m\n",
      "\u001b[34m[17]#011train-rmse:0.57873#011validation-rmse:0.602592\u001b[0m\n",
      "\u001b[34m[18]#011train-rmse:0.53164#011validation-rmse:0.557649\u001b[0m\n",
      "\u001b[34m[19]#011train-rmse:0.490258#011validation-rmse:0.518444\u001b[0m\n",
      "\u001b[34m[20]#011train-rmse:0.458376#011validation-rmse:0.488227\u001b[0m\n",
      "\u001b[34m[21]#011train-rmse:0.428058#011validation-rmse:0.460197\u001b[0m\n",
      "\u001b[34m[22]#011train-rmse:0.404717#011validation-rmse:0.438996\u001b[0m\n",
      "\u001b[34m[23]#011train-rmse:0.382174#011validation-rmse:0.417714\u001b[0m\n",
      "\u001b[34m[24]#011train-rmse:0.365041#011validation-rmse:0.401706\u001b[0m\n",
      "\u001b[34m[25]#011train-rmse:0.346851#011validation-rmse:0.385693\u001b[0m\n",
      "\u001b[34m[26]#011train-rmse:0.332757#011validation-rmse:0.372674\u001b[0m\n",
      "\u001b[34m[27]#011train-rmse:0.322641#011validation-rmse:0.363798\u001b[0m\n",
      "\u001b[34m[28]#011train-rmse:0.310785#011validation-rmse:0.353817\u001b[0m\n",
      "\u001b[34m[29]#011train-rmse:0.30347#011validation-rmse:0.347922\u001b[0m\n",
      "\u001b[34m[30]#011train-rmse:0.296345#011validation-rmse:0.342244\u001b[0m\n",
      "\u001b[34m[31]#011train-rmse:0.290539#011validation-rmse:0.337495\u001b[0m\n",
      "\u001b[34m[32]#011train-rmse:0.282818#011validation-rmse:0.330681\u001b[0m\n",
      "\u001b[34m[33]#011train-rmse:0.278676#011validation-rmse:0.327237\u001b[0m\n",
      "\u001b[34m[34]#011train-rmse:0.275153#011validation-rmse:0.324208\u001b[0m\n",
      "\u001b[34m[35]#011train-rmse:0.271925#011validation-rmse:0.322468\u001b[0m\n",
      "\u001b[34m[36]#011train-rmse:0.269598#011validation-rmse:0.320812\u001b[0m\n",
      "\u001b[34m[37]#011train-rmse:0.267662#011validation-rmse:0.319126\u001b[0m\n",
      "\u001b[34m[38]#011train-rmse:0.26496#011validation-rmse:0.317361\u001b[0m\n",
      "\u001b[34m[39]#011train-rmse:0.262279#011validation-rmse:0.315389\u001b[0m\n",
      "\u001b[34m[40]#011train-rmse:0.25993#011validation-rmse:0.313669\u001b[0m\n",
      "\u001b[34m[41]#011train-rmse:0.257227#011validation-rmse:0.312174\u001b[0m\n",
      "\u001b[34m[42]#011train-rmse:0.255472#011validation-rmse:0.31122\u001b[0m\n",
      "\u001b[34m[43]#011train-rmse:0.254105#011validation-rmse:0.310297\u001b[0m\n",
      "\u001b[34m[44]#011train-rmse:0.250066#011validation-rmse:0.307413\u001b[0m\n",
      "\u001b[34m[45]#011train-rmse:0.248016#011validation-rmse:0.306021\u001b[0m\n",
      "\u001b[34m[46]#011train-rmse:0.246279#011validation-rmse:0.305019\u001b[0m\n",
      "\u001b[34m[47]#011train-rmse:0.243266#011validation-rmse:0.303143\u001b[0m\n",
      "\u001b[34m[48]#011train-rmse:0.24162#011validation-rmse:0.302402\u001b[0m\n",
      "\u001b[34m[49]#011train-rmse:0.24031#011validation-rmse:0.302126\u001b[0m\n",
      "\u001b[34m[50]#011train-rmse:0.238274#011validation-rmse:0.300634\u001b[0m\n",
      "\u001b[34m[51]#011train-rmse:0.2372#011validation-rmse:0.300261\u001b[0m\n",
      "\u001b[34m[52]#011train-rmse:0.235668#011validation-rmse:0.29935\u001b[0m\n",
      "\u001b[34m[53]#011train-rmse:0.235118#011validation-rmse:0.29923\u001b[0m\n",
      "\u001b[34m[54]#011train-rmse:0.233247#011validation-rmse:0.297973\u001b[0m\n",
      "\u001b[34m[55]#011train-rmse:0.232512#011validation-rmse:0.297737\u001b[0m\n",
      "\u001b[34m[56]#011train-rmse:0.23145#011validation-rmse:0.297388\u001b[0m\n",
      "\u001b[34m[57]#011train-rmse:0.230983#011validation-rmse:0.297338\u001b[0m\n",
      "\u001b[34m[58]#011train-rmse:0.229756#011validation-rmse:0.296542\u001b[0m\n",
      "\u001b[34m[59]#011train-rmse:0.228796#011validation-rmse:0.296642\u001b[0m\n",
      "\u001b[34m[60]#011train-rmse:0.227542#011validation-rmse:0.296575\u001b[0m\n",
      "\u001b[34m[61]#011train-rmse:0.226619#011validation-rmse:0.296394\u001b[0m\n",
      "\u001b[34m[62]#011train-rmse:0.225614#011validation-rmse:0.295909\u001b[0m\n",
      "\u001b[34m[63]#011train-rmse:0.224855#011validation-rmse:0.295412\u001b[0m\n",
      "\u001b[34m[64]#011train-rmse:0.223604#011validation-rmse:0.294642\u001b[0m\n",
      "\u001b[34m[65]#011train-rmse:0.222997#011validation-rmse:0.294518\u001b[0m\n",
      "\u001b[34m[66]#011train-rmse:0.221997#011validation-rmse:0.294313\u001b[0m\n",
      "\u001b[34m[67]#011train-rmse:0.22154#011validation-rmse:0.294231\u001b[0m\n",
      "\u001b[34m[68]#011train-rmse:0.221063#011validation-rmse:0.294059\u001b[0m\n",
      "\u001b[34m[69]#011train-rmse:0.220105#011validation-rmse:0.293974\u001b[0m\n",
      "\u001b[34m[70]#011train-rmse:0.219038#011validation-rmse:0.293446\u001b[0m\n",
      "\u001b[34m[71]#011train-rmse:0.217994#011validation-rmse:0.293217\u001b[0m\n",
      "\u001b[34m[72]#011train-rmse:0.216707#011validation-rmse:0.292565\u001b[0m\n",
      "\u001b[34m[73]#011train-rmse:0.215828#011validation-rmse:0.29205\u001b[0m\n",
      "\u001b[34m[74]#011train-rmse:0.215021#011validation-rmse:0.291695\u001b[0m\n",
      "\u001b[34m[75]#011train-rmse:0.214463#011validation-rmse:0.291491\u001b[0m\n",
      "\u001b[34m[76]#011train-rmse:0.213381#011validation-rmse:0.291264\u001b[0m\n",
      "\u001b[34m[77]#011train-rmse:0.213049#011validation-rmse:0.291121\u001b[0m\n",
      "\u001b[34m[78]#011train-rmse:0.21248#011validation-rmse:0.29108\u001b[0m\n",
      "\u001b[34m[79]#011train-rmse:0.212011#011validation-rmse:0.2912\u001b[0m\n",
      "\u001b[34m[80]#011train-rmse:0.21119#011validation-rmse:0.290741\u001b[0m\n",
      "\u001b[34m[81]#011train-rmse:0.21054#011validation-rmse:0.290777\u001b[0m\n",
      "\u001b[34m[82]#011train-rmse:0.209852#011validation-rmse:0.290745\u001b[0m\n",
      "\u001b[34m[83]#011train-rmse:0.208924#011validation-rmse:0.290599\u001b[0m\n",
      "\u001b[34m[84]#011train-rmse:0.208528#011validation-rmse:0.290588\u001b[0m\n",
      "\u001b[34m[85]#011train-rmse:0.207853#011validation-rmse:0.290526\u001b[0m\n",
      "\u001b[34m[86]#011train-rmse:0.207484#011validation-rmse:0.29056\u001b[0m\n",
      "\u001b[34m[87]#011train-rmse:0.206497#011validation-rmse:0.290233\u001b[0m\n",
      "\u001b[34m[88]#011train-rmse:0.205882#011validation-rmse:0.290029\u001b[0m\n",
      "\u001b[34m[89]#011train-rmse:0.205093#011validation-rmse:0.289807\u001b[0m\n",
      "\u001b[34m[90]#011train-rmse:0.204446#011validation-rmse:0.28961\u001b[0m\n",
      "\u001b[34m[91]#011train-rmse:0.203808#011validation-rmse:0.289652\u001b[0m\n",
      "\u001b[34m[92]#011train-rmse:0.203318#011validation-rmse:0.289563\u001b[0m\n",
      "\u001b[34m[93]#011train-rmse:0.202567#011validation-rmse:0.2893\u001b[0m\n",
      "\u001b[34m[94]#011train-rmse:0.201541#011validation-rmse:0.28935\u001b[0m\n",
      "\u001b[34m[95]#011train-rmse:0.200776#011validation-rmse:0.289297\u001b[0m\n",
      "\u001b[34m[96]#011train-rmse:0.200476#011validation-rmse:0.289224\u001b[0m\n",
      "\u001b[34m[97]#011train-rmse:0.199889#011validation-rmse:0.289148\u001b[0m\n",
      "\u001b[34m[98]#011train-rmse:0.199451#011validation-rmse:0.288914\u001b[0m\n",
      "\u001b[34m[99]#011train-rmse:0.198971#011validation-rmse:0.288769\u001b[0m\n",
      "\u001b[34m[100]#011train-rmse:0.198187#011validation-rmse:0.288744\u001b[0m\n",
      "\u001b[34m[101]#011train-rmse:0.197324#011validation-rmse:0.288309\u001b[0m\n",
      "\u001b[34m[102]#011train-rmse:0.196632#011validation-rmse:0.288312\u001b[0m\n",
      "\u001b[34m[103]#011train-rmse:0.19622#011validation-rmse:0.288239\u001b[0m\n",
      "\u001b[34m[104]#011train-rmse:0.195764#011validation-rmse:0.288079\u001b[0m\n",
      "\u001b[34m[105]#011train-rmse:0.194641#011validation-rmse:0.287364\u001b[0m\n",
      "\u001b[34m[106]#011train-rmse:0.193931#011validation-rmse:0.287015\u001b[0m\n",
      "\u001b[34m[107]#011train-rmse:0.192856#011validation-rmse:0.28669\u001b[0m\n",
      "\u001b[34m[108]#011train-rmse:0.192173#011validation-rmse:0.286711\u001b[0m\n",
      "\u001b[34m[109]#011train-rmse:0.191881#011validation-rmse:0.286655\u001b[0m\n",
      "\u001b[34m[110]#011train-rmse:0.19132#011validation-rmse:0.286638\u001b[0m\n",
      "\u001b[34m[111]#011train-rmse:0.190968#011validation-rmse:0.286373\u001b[0m\n",
      "\u001b[34m[112]#011train-rmse:0.190334#011validation-rmse:0.286189\u001b[0m\n",
      "\u001b[34m[113]#011train-rmse:0.189707#011validation-rmse:0.285553\u001b[0m\n",
      "\u001b[34m[114]#011train-rmse:0.189272#011validation-rmse:0.285723\u001b[0m\n",
      "\u001b[34m[115]#011train-rmse:0.188862#011validation-rmse:0.285559\u001b[0m\n",
      "\u001b[34m[116]#011train-rmse:0.188493#011validation-rmse:0.285532\u001b[0m\n",
      "\u001b[34m[117]#011train-rmse:0.187843#011validation-rmse:0.28573\u001b[0m\n",
      "\u001b[34m[118]#011train-rmse:0.187268#011validation-rmse:0.285615\u001b[0m\n",
      "\u001b[34m[119]#011train-rmse:0.186957#011validation-rmse:0.285665\u001b[0m\n",
      "\u001b[34m[120]#011train-rmse:0.186023#011validation-rmse:0.285591\u001b[0m\n",
      "\u001b[34m[121]#011train-rmse:0.185502#011validation-rmse:0.285402\u001b[0m\n",
      "\u001b[34m[122]#011train-rmse:0.185034#011validation-rmse:0.285421\u001b[0m\n",
      "\u001b[34m[123]#011train-rmse:0.184414#011validation-rmse:0.285293\u001b[0m\n",
      "\u001b[34m[124]#011train-rmse:0.183882#011validation-rmse:0.285373\u001b[0m\n",
      "\u001b[34m[125]#011train-rmse:0.183474#011validation-rmse:0.285276\u001b[0m\n",
      "\u001b[34m[126]#011train-rmse:0.182848#011validation-rmse:0.285311\u001b[0m\n",
      "\u001b[34m[127]#011train-rmse:0.182027#011validation-rmse:0.285399\u001b[0m\n",
      "\u001b[34m[128]#011train-rmse:0.181589#011validation-rmse:0.28542\u001b[0m\n",
      "\u001b[34m[129]#011train-rmse:0.181052#011validation-rmse:0.285703\u001b[0m\n",
      "\u001b[34m[130]#011train-rmse:0.180446#011validation-rmse:0.285843\u001b[0m\n",
      "\u001b[34m[131]#011train-rmse:0.18002#011validation-rmse:0.285913\u001b[0m\n",
      "\u001b[34m[132]#011train-rmse:0.179666#011validation-rmse:0.285905\u001b[0m\n",
      "\u001b[34m[133]#011train-rmse:0.179123#011validation-rmse:0.28593\u001b[0m\n",
      "\u001b[34m[134]#011train-rmse:0.178628#011validation-rmse:0.285698\u001b[0m\n",
      "\u001b[34m[135]#011train-rmse:0.178059#011validation-rmse:0.285474\u001b[0m\n",
      "\u001b[34m[136]#011train-rmse:0.177612#011validation-rmse:0.285441\u001b[0m\n",
      "\u001b[34m[137]#011train-rmse:0.177122#011validation-rmse:0.285454\u001b[0m\n",
      "\u001b[34m[138]#011train-rmse:0.176833#011validation-rmse:0.285441\u001b[0m\n",
      "\u001b[34m[139]#011train-rmse:0.176185#011validation-rmse:0.285719\u001b[0m\n",
      "\u001b[34m[140]#011train-rmse:0.175832#011validation-rmse:0.285507\u001b[0m\n",
      "\u001b[34m[141]#011train-rmse:0.175378#011validation-rmse:0.28574\u001b[0m\n",
      "\u001b[34m[142]#011train-rmse:0.174644#011validation-rmse:0.285538\u001b[0m\n",
      "\u001b[34m[143]#011train-rmse:0.174087#011validation-rmse:0.285485\u001b[0m\n",
      "\u001b[34m[144]#011train-rmse:0.173773#011validation-rmse:0.285511\u001b[0m\n",
      "\u001b[34m[145]#011train-rmse:0.173098#011validation-rmse:0.285565\u001b[0m\n",
      "\u001b[34m[146]#011train-rmse:0.172683#011validation-rmse:0.28567\u001b[0m\n",
      "\u001b[34m[147]#011train-rmse:0.17227#011validation-rmse:0.285564\u001b[0m\n",
      "\u001b[34m[148]#011train-rmse:0.171736#011validation-rmse:0.285262\u001b[0m\n",
      "\u001b[34m[149]#011train-rmse:0.171101#011validation-rmse:0.285264\u001b[0m\n",
      "\u001b[34m[150]#011train-rmse:0.170603#011validation-rmse:0.285225\u001b[0m\n",
      "\u001b[34m[151]#011train-rmse:0.170085#011validation-rmse:0.285473\u001b[0m\n",
      "\u001b[34m[152]#011train-rmse:0.169553#011validation-rmse:0.285299\u001b[0m\n",
      "\u001b[34m[153]#011train-rmse:0.169137#011validation-rmse:0.285084\u001b[0m\n",
      "\u001b[34m[154]#011train-rmse:0.168677#011validation-rmse:0.285046\u001b[0m\n",
      "\u001b[34m[155]#011train-rmse:0.168343#011validation-rmse:0.285074\u001b[0m\n",
      "\u001b[34m[156]#011train-rmse:0.168065#011validation-rmse:0.285064\u001b[0m\n",
      "\u001b[34m[157]#011train-rmse:0.167616#011validation-rmse:0.285056\u001b[0m\n",
      "\u001b[34m[158]#011train-rmse:0.167135#011validation-rmse:0.284995\u001b[0m\n",
      "\u001b[34m[159]#011train-rmse:0.16651#011validation-rmse:0.284914\u001b[0m\n",
      "\u001b[34m[160]#011train-rmse:0.166151#011validation-rmse:0.284757\u001b[0m\n",
      "\u001b[34m[161]#011train-rmse:0.16571#011validation-rmse:0.284768\u001b[0m\n",
      "\u001b[34m[162]#011train-rmse:0.16529#011validation-rmse:0.284615\u001b[0m\n",
      "\u001b[34m[163]#011train-rmse:0.164872#011validation-rmse:0.284635\u001b[0m\n",
      "\u001b[34m[164]#011train-rmse:0.164469#011validation-rmse:0.284811\u001b[0m\n",
      "\u001b[34m[165]#011train-rmse:0.164009#011validation-rmse:0.28484\u001b[0m\n",
      "\u001b[34m[166]#011train-rmse:0.163842#011validation-rmse:0.284774\u001b[0m\n",
      "\u001b[34m[167]#011train-rmse:0.1634#011validation-rmse:0.284557\u001b[0m\n",
      "\u001b[34m[168]#011train-rmse:0.163053#011validation-rmse:0.284363\u001b[0m\n",
      "\u001b[34m[169]#011train-rmse:0.162709#011validation-rmse:0.284382\u001b[0m\n",
      "\u001b[34m[170]#011train-rmse:0.162148#011validation-rmse:0.28442\u001b[0m\n",
      "\u001b[34m[171]#011train-rmse:0.161723#011validation-rmse:0.284468\u001b[0m\n",
      "\u001b[34m[172]#011train-rmse:0.16136#011validation-rmse:0.284423\u001b[0m\n",
      "\u001b[34m[173]#011train-rmse:0.160819#011validation-rmse:0.284309\u001b[0m\n",
      "\u001b[34m[174]#011train-rmse:0.160366#011validation-rmse:0.284396\u001b[0m\n",
      "\u001b[34m[175]#011train-rmse:0.159909#011validation-rmse:0.284373\u001b[0m\n",
      "\u001b[34m[176]#011train-rmse:0.159538#011validation-rmse:0.284377\u001b[0m\n",
      "\u001b[34m[177]#011train-rmse:0.15917#011validation-rmse:0.284347\u001b[0m\n",
      "\u001b[34m[178]#011train-rmse:0.158654#011validation-rmse:0.284323\u001b[0m\n",
      "\u001b[34m[179]#011train-rmse:0.158325#011validation-rmse:0.284485\u001b[0m\n",
      "\u001b[34m[180]#011train-rmse:0.158197#011validation-rmse:0.284523\u001b[0m\n",
      "\u001b[34m[181]#011train-rmse:0.157914#011validation-rmse:0.284442\u001b[0m\n",
      "\u001b[34m[182]#011train-rmse:0.157745#011validation-rmse:0.284506\u001b[0m\n",
      "\u001b[34m[183]#011train-rmse:0.15741#011validation-rmse:0.284435\u001b[0m\n",
      "\u001b[34m[184]#011train-rmse:0.156996#011validation-rmse:0.284567\u001b[0m\n",
      "\u001b[34m[185]#011train-rmse:0.156457#011validation-rmse:0.284488\u001b[0m\n",
      "\u001b[34m[186]#011train-rmse:0.156065#011validation-rmse:0.284306\u001b[0m\n",
      "\u001b[34m[187]#011train-rmse:0.1558#011validation-rmse:0.284191\u001b[0m\n",
      "\u001b[34m[188]#011train-rmse:0.155348#011validation-rmse:0.284012\u001b[0m\n",
      "\u001b[34m[189]#011train-rmse:0.155019#011validation-rmse:0.283895\u001b[0m\n",
      "\u001b[34m[190]#011train-rmse:0.154727#011validation-rmse:0.283845\u001b[0m\n",
      "\u001b[34m[191]#011train-rmse:0.15444#011validation-rmse:0.283812\u001b[0m\n",
      "\u001b[34m[192]#011train-rmse:0.154131#011validation-rmse:0.283823\u001b[0m\n",
      "\u001b[34m[193]#011train-rmse:0.153866#011validation-rmse:0.283856\u001b[0m\n",
      "\u001b[34m[194]#011train-rmse:0.153387#011validation-rmse:0.283804\u001b[0m\n",
      "\u001b[34m[195]#011train-rmse:0.152925#011validation-rmse:0.28384\u001b[0m\n",
      "\u001b[34m[196]#011train-rmse:0.152438#011validation-rmse:0.283907\u001b[0m\n",
      "\u001b[34m[197]#011train-rmse:0.15215#011validation-rmse:0.283848\u001b[0m\n",
      "\u001b[34m[198]#011train-rmse:0.151947#011validation-rmse:0.283943\u001b[0m\n",
      "\u001b[34m[199]#011train-rmse:0.1517#011validation-rmse:0.283953\u001b[0m\n"
     ]
    },
    {
     "name": "stdout",
     "output_type": "stream",
     "text": [
      "\n",
      "2020-07-06 11:00:41 Uploading - Uploading generated training model\n",
      "2020-07-06 11:00:41 Completed - Training job completed\n",
      "Training seconds: 61\n",
      "Billable seconds: 61\n"
     ]
    }
   ],
   "source": [
    "# XGBoost supports \"train\", \"validation\" channels\n",
    "# Reference: Supported channels by algorithm\n",
    "#   https://docs.aws.amazon.com/sagemaker/latest/dg/sagemaker-algo-docker-registry-paths.html\n",
    "estimator.fit({'train':training_input_config, 'validation':validation_input_config})"
   ]
  },
  {
   "cell_type": "markdown",
   "metadata": {},
   "source": [
    "### Deploy Model"
   ]
  },
  {
   "cell_type": "code",
   "execution_count": 94,
   "metadata": {},
   "outputs": [
    {
     "name": "stdout",
     "output_type": "stream",
     "text": [
      "---------------!"
     ]
    }
   ],
   "source": [
    "# Ref: http://sagemaker.readthedocs.io/en/latest/estimators.html\n",
    "predictor = estimator.deploy(initial_instance_count=1,\n",
    "                             instance_type='ml.m4.xlarge',\n",
    "                             endpoint_name = 'xgboost-biketrain-v1')"
   ]
  },
  {
   "cell_type": "markdown",
   "metadata": {},
   "source": [
    "### Run Predictions"
   ]
  },
  {
   "cell_type": "code",
   "execution_count": null,
   "metadata": {},
   "outputs": [],
   "source": [
    "from sagemaker.predictor import csv_serializer, json_deserializer\n",
    "\n",
    "predictor.content_type = 'text/csv'\n",
    "predictor.serializer = csv_serializer\n",
    "predictor.deserializer = None"
   ]
  },
  {
   "cell_type": "code",
   "execution_count": null,
   "metadata": {},
   "outputs": [],
   "source": [
    "predictor.predict([[3,0,1,2,28.7,33.335,79,12.998,2011,7,7,3]])"
   ]
  },
  {
   "cell_type": "markdown",
   "metadata": {},
   "source": [
    "### Summary"
   ]
  },
  {
   "cell_type": "markdown",
   "metadata": {},
   "source": [
    "* Ensure Training, Test and Validation data are in S3 Bucket\n",
    "* Select Algorithm Container Registry Path - Path varies by region\n",
    "* Configure Estimator for training - Specify Algorithm container, instance count, instance type, model output location\n",
    "* Specify algorithm specific hyper parameters\n",
    "* Train model\n",
    "* Deploy model - Specify instance count, instance type and endpoint name\n",
    "* Run Predictions"
   ]
  }
 ],
 "metadata": {
  "kernelspec": {
   "display_name": "conda_python3",
   "language": "python",
   "name": "conda_python3"
  },
  "language_info": {
   "codemirror_mode": {
    "name": "ipython",
    "version": 3
   },
   "file_extension": ".py",
   "mimetype": "text/x-python",
   "name": "python",
   "nbconvert_exporter": "python",
   "pygments_lexer": "ipython3",
   "version": "3.6.5"
  }
 },
 "nbformat": 4,
 "nbformat_minor": 1
}
